{
 "cells": [
  {
   "cell_type": "code",
   "execution_count": 54,
   "metadata": {},
   "outputs": [
    {
     "name": "stdout",
     "output_type": "stream",
     "text": [
      "[0, 1, 0, 1, 0, 1, 0, 0, 1, 0, 1, 0, 0]\n",
      "[0, 0, 0, 1, 0, 0, 0, 0, 0, 1, 0, 0, 0]\n",
      "[0, 0, 0, 0, 1, 0, 0, 0, 0, 1, 0, 0, 0]\n",
      "[0, 0, 0, 0, 0, 0, 0, 0, 0, 0, 0, 0, 0]\n",
      "[0, 0, 0, 0, 0, 0, 0, 0, 0, 0, 0, 0, 0]\n",
      "[0, 0, 0, 0, 0, 0, 0, 0, 0, 0, 0, 0, 0]\n",
      "[0, 0, 0, 0, 0, 0, 0, 0, 0, 0, 0, 0, 0]\n",
      "[0, 0, 0, 0, 0, 0, 0, 0, 0, 0, 0, 0, 0]\n",
      "[0, 0, 0, 0, 0, 0, 0, 0, 0, 0, 0, 0, 0]\n"
     ]
    }
   ],
   "source": [
    "def row(mL):\n",
    "    newMl = []\n",
    "    for i in range(len(mL)):\n",
    "        cellAlive = 0\n",
    "        if i < len(mL) - 1:\n",
    "            if mL[i + 1] == 1 and mL[i - 1] == 1:\n",
    "                cellAlive = mL[i]\n",
    "            if mL[i] == 0 and mL[i + 1] == 1 and mL[i - 1] == 1:\n",
    "                cellAlive = 1 \n",
    "        newMl.append(cellAlive)\n",
    "    return newMl\n",
    "\n",
    " \n",
    "\n",
    "\n",
    "def step():\n",
    "    mL = [[1, 1, 1, 0, 1, 0, 1, 1, 0, 1, 1, 1, 0],\n",
    "    [0, 1, 1, 0, 1, 0, 0, 0, 1, 0, 1, 0, 0],\n",
    "    [0, 0, 0, 1, 0, 1, 0, 0, 1, 1, 1, 0, 0],\n",
    "    [1, 1, 0, 1, 0, 0, 1, 1, 1, 0, 0, 0, 1],\n",
    "    [0, 1, 1, 1, 1, 0, 0, 1, 0, 1, 0, 0, 0],\n",
    "    [1, 0, 1, 0, 0, 1, 1, 1, 0, 0, 1, 0, 0],\n",
    "    [0, 0, 1, 0, 1, 1, 1, 0, 0, 1, 0, 1, 0],\n",
    "    [1, 1, 0, 0, 0, 1, 1, 1, 0, 1, 0, 1, 1],\n",
    "    [0, 1, 0, 1, 0, 1, 0, 1, 1, 1, 0, 0, 0],]\n",
    "\n",
    "    for array in mL:\n",
    "        result = row(array)\n",
    "        print(result)\n",
    "\n",
    "\n",
    "step()"
   ]
  }
 ],
 "metadata": {
  "kernelspec": {
   "display_name": "base",
   "language": "python",
   "name": "python3"
  },
  "language_info": {
   "codemirror_mode": {
    "name": "ipython",
    "version": 3
   },
   "file_extension": ".py",
   "mimetype": "text/x-python",
   "name": "python",
   "nbconvert_exporter": "python",
   "pygments_lexer": "ipython3",
   "version": "3.11.5"
  }
 },
 "nbformat": 4,
 "nbformat_minor": 2
}

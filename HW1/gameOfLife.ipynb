{
 "cells": [
  {
   "cell_type": "code",
   "execution_count": 94,
   "metadata": {},
   "outputs": [
    {
     "data": {
      "text/plain": [
       "[[0, 1, 0, 1, 0, 1, 0, 0, 1, 0, 1, 0, 0],\n",
       " [0, 0, 0, 1, 0, 0, 0, 0, 0, 1, 0, 0, 0],\n",
       " [0, 0, 0, 0, 1, 0, 0, 0, 0, 1, 0, 0, 0],\n",
       " [1, 0, 1, 0, 0, 0, 0, 1, 0, 0, 0, 0, 0],\n",
       " [0, 0, 1, 1, 0, 0, 0, 0, 1, 0, 0, 0, 0],\n",
       " [0, 1, 0, 0, 0, 0, 1, 0, 0, 0, 0, 0, 0],\n",
       " [0, 0, 0, 1, 0, 1, 0, 0, 0, 0, 1, 0, 0],\n",
       " [1, 0, 0, 0, 0, 0, 1, 0, 1, 0, 1, 0, 0],\n",
       " [0, 0, 1, 0, 1, 0, 1, 0, 1, 0, 0, 0, 0]]"
      ]
     },
     "execution_count": 94,
     "metadata": {},
     "output_type": "execute_result"
    }
   ],
   "source": [
    "mL = [[1, 1, 1, 0, 1, 0, 1, 1, 0, 1, 1, 1, 0],\n",
    "    [0, 1, 1, 0, 1, 0, 0, 0, 1, 0, 1, 0, 0],\n",
    "    [0, 0, 0, 1, 0, 1, 0, 0, 1, 1, 1, 0, 0],\n",
    "    [1, 1, 0, 1, 0, 0, 1, 1, 1, 0, 0, 0, 1],\n",
    "    [0, 1, 1, 1, 1, 0, 0, 1, 0, 1, 0, 0, 0],\n",
    "    [1, 0, 1, 0, 0, 1, 1, 1, 0, 0, 1, 0, 0],\n",
    "    [0, 0, 1, 0, 1, 1, 1, 0, 0, 1, 0, 1, 0],\n",
    "    [1, 1, 0, 0, 0, 1, 1, 1, 0, 1, 0, 1, 1],\n",
    "    [0, 1, 0, 1, 0, 1, 0, 1, 1, 1, 0, 0, 0],]\n",
    "\n",
    "def row(mL):\n",
    "    newMl = []\n",
    "    for i in range(len(mL)):\n",
    "        cellAlive = 0\n",
    "        if i < len(mL) - 1:\n",
    "            if mL[i + 1] == 1 and mL[i - 1] == 1:\n",
    "                cellAlive = mL[i]\n",
    "            if mL[i] == 0 and mL[i + 1] == 1 and mL[i - 1] == 1:\n",
    "                cellAlive = 1 \n",
    "        newMl.append(cellAlive)\n",
    "    return newMl\n",
    "\n",
    "def step(mL):\n",
    "    newMl = []\n",
    "    for array in mL:\n",
    "        result = row(array)\n",
    "        newMl.append(result)\n",
    "    return newMl\n",
    "    \n",
    "step(mL)"
   ]
  }
 ],
 "metadata": {
  "kernelspec": {
   "display_name": "base",
   "language": "python",
   "name": "python3"
  },
  "language_info": {
   "codemirror_mode": {
    "name": "ipython",
    "version": 3
   },
   "file_extension": ".py",
   "mimetype": "text/x-python",
   "name": "python",
   "nbconvert_exporter": "python",
   "pygments_lexer": "ipython3",
   "version": "3.11.5"
  }
 },
 "nbformat": 4,
 "nbformat_minor": 2
}

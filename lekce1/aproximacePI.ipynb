{
 "cells": [
  {
   "cell_type": "code",
   "execution_count": 65,
   "metadata": {},
   "outputs": [
    {
     "data": {
      "text/plain": [
       "3.1362"
      ]
     },
     "execution_count": 65,
     "metadata": {},
     "output_type": "execute_result"
    }
   ],
   "source": [
    "import random as rnd\n",
    "\n",
    "def aprox(n):\n",
    "    k = 0\n",
    "\n",
    "    for _ in range(n):\n",
    "        x = rnd.uniform(-1, 1)\n",
    "        y = rnd.uniform(-1, 1)\n",
    "        if(x**2 + y**2 <= 1):\n",
    "            k +=1\n",
    "\n",
    "\n",
    "    return 4 * (k/n)\n",
    "       \n",
    "aprox(100000)\n"
   ]
  }
 ],
 "metadata": {
  "kernelspec": {
   "display_name": "Python 3",
   "language": "python",
   "name": "python3"
  },
  "language_info": {
   "codemirror_mode": {
    "name": "ipython",
    "version": 3
   },
   "file_extension": ".py",
   "mimetype": "text/x-python",
   "name": "python",
   "nbconvert_exporter": "python",
   "pygments_lexer": "ipython3",
   "version": "3.9.6"
  }
 },
 "nbformat": 4,
 "nbformat_minor": 2
}

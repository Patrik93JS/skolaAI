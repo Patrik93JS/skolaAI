{
 "cells": [
  {
   "cell_type": "code",
   "execution_count": 2,
   "metadata": {},
   "outputs": [
    {
     "ename": "ModuleNotFoundError",
     "evalue": "No module named 'matplotlib'",
     "output_type": "error",
     "traceback": [
      "\u001b[0;31m---------------------------------------------------------------------------\u001b[0m",
      "\u001b[0;31mModuleNotFoundError\u001b[0m                       Traceback (most recent call last)",
      "\u001b[1;32m/Users/patrikludvik/Documents/MojeProjekty/skolaAI/skolaAI/lekce1/aproximacePI.ipynb Cell 1\u001b[0m line \u001b[0;36m2\n\u001b[1;32m      <a href='vscode-notebook-cell:/Users/patrikludvik/Documents/MojeProjekty/skolaAI/skolaAI/lekce1/aproximacePI.ipynb#W0sZmlsZQ%3D%3D?line=0'>1</a>\u001b[0m \u001b[39mimport\u001b[39;00m \u001b[39mrandom\u001b[39;00m \u001b[39mas\u001b[39;00m \u001b[39mrnd\u001b[39;00m\n\u001b[0;32m----> <a href='vscode-notebook-cell:/Users/patrikludvik/Documents/MojeProjekty/skolaAI/skolaAI/lekce1/aproximacePI.ipynb#W0sZmlsZQ%3D%3D?line=1'>2</a>\u001b[0m \u001b[39mimport\u001b[39;00m \u001b[39mmatplotlib\u001b[39;00m\u001b[39m.\u001b[39;00m\u001b[39mpyplot\u001b[39;00m \u001b[39mas\u001b[39;00m \u001b[39mplt\u001b[39;00m\n\u001b[1;32m      <a href='vscode-notebook-cell:/Users/patrikludvik/Documents/MojeProjekty/skolaAI/skolaAI/lekce1/aproximacePI.ipynb#W0sZmlsZQ%3D%3D?line=2'>3</a>\u001b[0m \u001b[39mimport\u001b[39;00m \u001b[39mnumpy\u001b[39;00m \u001b[39mas\u001b[39;00m \u001b[39mnp\u001b[39;00m\n\u001b[1;32m      <a href='vscode-notebook-cell:/Users/patrikludvik/Documents/MojeProjekty/skolaAI/skolaAI/lekce1/aproximacePI.ipynb#W0sZmlsZQ%3D%3D?line=3'>4</a>\u001b[0m \u001b[39mdef\u001b[39;00m \u001b[39maprox\u001b[39m(n):\n",
      "\u001b[0;31mModuleNotFoundError\u001b[0m: No module named 'matplotlib'"
     ]
    }
   ],
   "source": [
    "import random as rnd\n",
    "\n",
    "def aprox(n):\n",
    "    k = 0\n",
    "\n",
    "    for _ in range(n):\n",
    "        x = rnd.uniform(-1, 1)\n",
    "        y = rnd.uniform(-1, 1)\n",
    "        if(x**2 + y**2 <= 1):\n",
    "            k +=1\n",
    "\n",
    "\n",
    "    return 4 * (k/n)\n",
    "       \n",
    "aprox(100000)\n"
   ]
  }
 ],
 "metadata": {
  "kernelspec": {
   "display_name": "Python 3",
   "language": "python",
   "name": "python3"
  },
  "language_info": {
   "codemirror_mode": {
    "name": "ipython",
    "version": 3
   },
   "file_extension": ".py",
   "mimetype": "text/x-python",
   "name": "python",
   "nbconvert_exporter": "python",
   "pygments_lexer": "ipython3",
   "version": "3.9.6"
  }
 },
 "nbformat": 4,
 "nbformat_minor": 2
}
